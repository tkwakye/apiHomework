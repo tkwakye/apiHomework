{
 "cells": [
  {
   "cell_type": "code",
   "execution_count": 37,
   "metadata": {},
   "outputs": [],
   "source": [
    "import json\n",
    "import pandas as pd\n",
    "import json\n",
    "import requests\n",
    "import matplotlib.pyplot as plt\n"
   ]
  },
  {
   "cell_type": "code",
   "execution_count": 38,
   "metadata": {},
   "outputs": [],
   "source": [
    "stock=input(\"Enter a stock: \")"
   ]
  },
  {
   "cell_type": "code",
   "execution_count": 39,
   "metadata": {},
   "outputs": [],
   "source": [
    "apikey=\"\"\n",
    "\n",
    "url = \"https://yfapi.net/v6/finance/quote\"\n",
    "quote_summary_url = f\"https://yfapi.net/v11/finance/quoteSummary/{stock}\"\n",
    "trending_url = \"https://yfapi.net/v1/finance/trending/US\"\n",
    "\n",
    "querystring = {\"symbols\":stock}\n",
    "querysummarystring = {\"modules\": \"financialData\"}\n",
    "\n",
    "\n",
    "headers = {\n",
    "    'x-api-key': apikey\n",
    "    }"
   ]
  },
  {
   "cell_type": "code",
   "execution_count": 40,
   "metadata": {},
   "outputs": [
    {
     "name": "stdout",
     "output_type": "stream",
     "text": [
      "GOOG Alphabet Inc.   Price:$163.83   Target Mean Price:$198.92   52 Week High:$193.31   52 Week Low:$121.46\n"
     ]
    }
   ],
   "source": [
    "try: \n",
    "    response = requests.request(\"GET\", url, headers=headers, params=querystring)\n",
    "    quotesummaryresponse = requests.get(quote_summary_url, headers=headers, params=querysummarystring)\n",
    "    trending_response = requests.get(trending_url, headers=headers)\n",
    "\n",
    "    stock_json = response.json()\n",
    "    summary_json = quotesummaryresponse.json()\n",
    "\n",
    "    print(str(stock_json['quoteResponse']['result'][0][\"symbol\"]) + \" \" + stock_json['quoteResponse']['result'][0][\"longName\"] + \"   Price:$\" + str(stock_json['quoteResponse']['result'][0][\"regularMarketPrice\"]) + \"   Target Mean Price:$\" + str(summary_json[\"quoteSummary\"][\"result\"][0][\"financialData\"].get(\"targetMeanPrice\", {}).get(\"raw\")) + \"   52 Week High:$\" + str(stock_json['quoteResponse']['result'][0][\"fiftyTwoWeekHigh\"]) +  \"   52 Week Low:$\" + str(stock_json['quoteResponse']['result'][0][\"fiftyTwoWeekLow\"]) )\n",
    "except requests.exceptions.HTTPError as err:\n",
    "    print(f\"Error: {err}\")\n",
    "except requests.exceptions.RequestException as e:\n",
    "    print(f\"Error: {e}\")\n",
    "except (IndexError, KeyError):\n",
    "    print(\"Error\")"
   ]
  },
  {
   "cell_type": "code",
   "execution_count": 41,
   "metadata": {},
   "outputs": [
    {
     "name": "stdout",
     "output_type": "stream",
     "text": [
      "1 COST\n",
      "2 SMCI\n",
      "3 BABA\n",
      "4 BB\n",
      "5 PYPL\n"
     ]
    }
   ],
   "source": [
    "try:\n",
    "    trending_json = trending_response.json()\n",
    "    trending_stocks = trending_json['finance']['result'][0]['quotes'] = trending_json['finance']['result'][0]['quotes']\n",
    "    for i, stock in enumerate(trending_stocks[:5], start=1):\n",
    "                print(str(i) + \" \" + f\"{stock['symbol']}\")\n",
    "except requests.exceptions.HTTPError as err:\n",
    "    print(f\"Error: {err}\")\n",
    "except requests.exceptions.RequestException as e:\n",
    "    print(f\"Error: {e}\")\n",
    "except KeyError:\n",
    "    print(\"Error\")\n"
   ]
  },
  {
   "cell_type": "code",
   "execution_count": 42,
   "metadata": {},
   "outputs": [],
   "source": [
    "stock_info = stock_json['quoteResponse']['result'][0]\n",
    "ticker_name = stock_json['quoteResponse']['result'][0][\"symbol\"]\n",
    "long_name = stock_json['quoteResponse']['result'][0][\"longName\"]\n",
    "current_price = stock_json['quoteResponse']['result'][0][\"regularMarketPrice\"]\n",
    "week_52_high = stock_json['quoteResponse']['result'][0][\"fiftyTwoWeekHigh\"]\n",
    "week_52_low = stock_json['quoteResponse']['result'][0][\"fiftyTwoWeekLow\"]\n",
    "target_mean_price = summary_json[\"quoteSummary\"][\"result\"][0][\"financialData\"].get(\"targetMeanPrice\", {}).get(\"raw\")\n",
    "\n",
    "stock_data = {\n",
    "    \"Ticker Name\": ticker_name,\n",
    "    \"Full Name\": long_name,\n",
    "    \"Current Market Price\": current_price,\n",
    "    \"Target Mean Price\": target_mean_price if target_mean_price else 'N/A',\n",
    "    \"52-Week High\": week_52_high,\n",
    "    \"52-Week Low\": week_52_low\n",
    "}\n",
    "\n",
    "trending_data = []\n",
    "for i, stock in enumerate(trending_stocks[:5], start=1):\n",
    "        trending_data.append({\"Trending Stock #\": i, \"Symbol\": stock['symbol']})\n",
    "\n",
    "stockdf = pd.DataFrame([stock_data])\n",
    "trendingdf = pd.DataFrame(trending_data)\n",
    "alldf = pd.concat([stockdf, trendingdf])\n",
    "alldf.to_csv(\"all.csv\", index=False)\n"
   ]
  }
 ],
 "metadata": {
  "kernelspec": {
   "display_name": "Python 3",
   "language": "python",
   "name": "python3"
  },
  "language_info": {
   "codemirror_mode": {
    "name": "ipython",
    "version": 3
   },
   "file_extension": ".py",
   "mimetype": "text/x-python",
   "name": "python",
   "nbconvert_exporter": "python",
   "pygments_lexer": "ipython3",
   "version": "3.12.4"
  }
 },
 "nbformat": 4,
 "nbformat_minor": 2
}
